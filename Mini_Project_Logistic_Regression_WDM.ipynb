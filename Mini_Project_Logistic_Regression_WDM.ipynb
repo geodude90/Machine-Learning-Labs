{
  "nbformat": 4,
  "nbformat_minor": 0,
  "metadata": {
    "colab": {
      "name": "Mini_Project_Logistic_Regression_WDM.ipynb",
      "version": "0.3.2",
      "views": {},
      "default_view": {},
      "provenance": []
    },
    "kernelspec": {
      "display_name": "Python 3",
      "language": "python",
      "name": "python3"
    }
  },
  "cells": [
    {
      "metadata": {
        "id": "iXI1iuLoM534",
        "colab_type": "text"
      },
      "cell_type": "markdown",
      "source": [
        "# Classification\n",
        "$$\n",
        "\\renewcommand{\\like}{{\\cal L}}\n",
        "\\renewcommand{\\loglike}{{\\ell}}\n",
        "\\renewcommand{\\err}{{\\cal E}}\n",
        "\\renewcommand{\\dat}{{\\cal D}}\n",
        "\\renewcommand{\\hyp}{{\\cal H}}\n",
        "\\renewcommand{\\Ex}[2]{E_{#1}[#2]}\n",
        "\\renewcommand{\\x}{{\\mathbf x}}\n",
        "\\renewcommand{\\v}[1]{{\\mathbf #1}}\n",
        "$$"
      ]
    },
    {
      "metadata": {
        "id": "le2cWqb3M536",
        "colab_type": "text"
      },
      "cell_type": "markdown",
      "source": [
        "**Note:** We've adapted this Mini Project from [Lab 5 in the CS109](https://github.com/cs109/2015lab5) course. Please feel free to check out the original lab, both for more exercises, as well as solutions."
      ]
    },
    {
      "metadata": {
        "id": "dX-mEe-OM537",
        "colab_type": "text"
      },
      "cell_type": "markdown",
      "source": [
        "We turn our attention to **classification**. Classification tries to predict, which of a small set of classes, an observation belongs to. Mathematically, the aim is to find $y$, a **label** based on knowing a feature vector $\\x$. For instance, consider predicting gender from seeing a person's face, something we do fairly well as humans. To have a machine do this well, we would typically feed the machine a bunch of images of people which have been labelled \"male\" or \"female\" (the training set), and have it learn the gender of the person in the image from the labels and the *features* used to determine gender. Then, given a new photo, the trained algorithm returns us the gender of the person in the photo.\n",
        "\n",
        "There are different ways of making classifications. One idea is shown schematically in the image below, where we find a line that divides \"things\" of two different types in a 2-dimensional feature space. The classification show in the figure below is an example of a maximum-margin classifier where construct a decision boundary that is far as possible away from both classes of points. The fact that a line can be drawn to separate the two classes makes the problem *linearly separable*. Support Vector Machines (SVM) are an example of a maximum-margin classifier.\n",
        "\n",
        "![Splitting using a single line](images/onelinesplit.png)\n",
        "\n"
      ]
    },
    {
      "metadata": {
        "id": "oiF7Ap87M539",
        "colab_type": "code",
        "colab": {
          "autoexec": {
            "startup": false,
            "wait_interval": 0
          }
        }
      },
      "cell_type": "code",
      "source": [
        "%matplotlib inline\n",
        "import numpy as np\n",
        "import scipy as sp\n",
        "import matplotlib as mpl\n",
        "import matplotlib.cm as cm\n",
        "from matplotlib.colors import ListedColormap\n",
        "import matplotlib.pyplot as plt\n",
        "import pandas as pd\n",
        "pd.set_option('display.width', 500)\n",
        "pd.set_option('display.max_columns', 100)\n",
        "pd.set_option('display.notebook_repr_html', True)\n",
        "import seaborn as sns\n",
        "sns.set_style(\"whitegrid\")\n",
        "sns.set_context(\"poster\")\n",
        "import sklearn.model_selection\n",
        "\n",
        "c0=sns.color_palette()[0]\n",
        "c1=sns.color_palette()[1]\n",
        "c2=sns.color_palette()[2]\n",
        "\n",
        "cmap_light = ListedColormap(['#FFAAAA', '#AAFFAA', '#AAAAFF'])\n",
        "cmap_bold = ListedColormap(['#FF0000', '#00FF00', '#0000FF'])\n",
        "cm = plt.cm.RdBu\n",
        "cm_bright = ListedColormap(['#FF0000', '#0000FF'])\n",
        "\n",
        "def points_plot(ax, Xtr, Xte, ytr, yte, clf, mesh=True, colorscale=cmap_light, \n",
        "                cdiscrete=cmap_bold, alpha=0.1, psize=10, zfunc=False, predicted=False):\n",
        "    h = .02\n",
        "    X=np.concatenate((Xtr, Xte))\n",
        "    x_min, x_max = X[:, 0].min() - .5, X[:, 0].max() + .5\n",
        "    y_min, y_max = X[:, 1].min() - .5, X[:, 1].max() + .5\n",
        "    xx, yy = np.meshgrid(np.linspace(x_min, x_max, 100),\n",
        "                         np.linspace(y_min, y_max, 100))\n",
        "\n",
        "    #plt.figure(figsize=(10,6))\n",
        "    if zfunc:\n",
        "        p0 = clf.predict_proba(np.c_[xx.ravel(), yy.ravel()])[:, 0]\n",
        "        p1 = clf.predict_proba(np.c_[xx.ravel(), yy.ravel()])[:, 1]\n",
        "        Z=zfunc(p0, p1)\n",
        "    else:\n",
        "        Z = clf.predict(np.c_[xx.ravel(), yy.ravel()])\n",
        "    ZZ = Z.reshape(xx.shape)\n",
        "    if mesh:\n",
        "        plt.pcolormesh(xx, yy, ZZ, cmap=cmap_light, alpha=alpha, axes=ax)\n",
        "    if predicted:\n",
        "        showtr = clf.predict(Xtr)\n",
        "        showte = clf.predict(Xte)\n",
        "    else:\n",
        "        showtr = ytr\n",
        "        showte = yte\n",
        "    ax.scatter(Xtr[:, 0], Xtr[:, 1], c=showtr-1, cmap=cmap_bold, \n",
        "               s=psize, alpha=alpha,edgecolor=\"k\")\n",
        "    # and testing points\n",
        "    ax.scatter(Xte[:, 0], Xte[:, 1], c=showte-1, cmap=cmap_bold, \n",
        "               alpha=alpha, marker=\"s\", s=psize+10)\n",
        "    ax.set_xlim(xx.min(), xx.max())\n",
        "    ax.set_ylim(yy.min(), yy.max())\n",
        "    return ax,xx,yy\n",
        "\n",
        "def points_plot_prob(ax, Xtr, Xte, ytr, yte, clf, colorscale=cmap_light, \n",
        "                     cdiscrete=cmap_bold, ccolor=cm, psize=10, alpha=0.1):\n",
        "    ax,xx,yy = points_plot(ax, Xtr, Xte, ytr, yte, clf, mesh=False, \n",
        "                           colorscale=colorscale, cdiscrete=cdiscrete, \n",
        "                           psize=psize, alpha=alpha, predicted=True) \n",
        "    Z = clf.predict_proba(np.c_[xx.ravel(), yy.ravel()])[:, 1]\n",
        "    Z = Z.reshape(xx.shape)\n",
        "    plt.contourf(xx, yy, Z, cmap=ccolor, alpha=.2, axes=ax)\n",
        "    cs2 = plt.contour(xx, yy, Z, cmap=ccolor, alpha=.6, axes=ax)\n",
        "    plt.clabel(cs2, fmt = '%2.1f', colors = 'k', fontsize=14, axes=ax)\n",
        "    return ax "
      ],
      "execution_count": 0,
      "outputs": []
    },
    {
      "metadata": {
        "id": "krJfpgIWM54E",
        "colab_type": "text"
      },
      "cell_type": "markdown",
      "source": [
        "## A Motivating Example Using `sklearn`: Heights and Weights"
      ]
    },
    {
      "metadata": {
        "id": "6D3G2MdrM54E",
        "colab_type": "text"
      },
      "cell_type": "markdown",
      "source": [
        "We'll use a dataset of heights and weights of males and females to hone our understanding of classifiers. We load the data into a dataframe and plot it."
      ]
    },
    {
      "metadata": {
        "id": "W5k9183_M54F",
        "colab_type": "code",
        "colab": {
          "autoexec": {
            "startup": false,
            "wait_interval": 0
          }
        },
        "outputId": "7e435355-ba56-40a6-f6e0-068cf5adc652"
      },
      "cell_type": "code",
      "source": [
        "dflog = pd.read_csv(r\"C:\\Users\\yi6\\Desktop\\logistic_regression\\data\\01_heights_weights_genders.csv\")\n",
        "dflog.head()"
      ],
      "execution_count": 0,
      "outputs": [
        {
          "output_type": "execute_result",
          "data": {
            "text/html": [
              "<div>\n",
              "<style>\n",
              "    .dataframe thead tr:only-child th {\n",
              "        text-align: right;\n",
              "    }\n",
              "\n",
              "    .dataframe thead th {\n",
              "        text-align: left;\n",
              "    }\n",
              "\n",
              "    .dataframe tbody tr th {\n",
              "        vertical-align: top;\n",
              "    }\n",
              "</style>\n",
              "<table border=\"1\" class=\"dataframe\">\n",
              "  <thead>\n",
              "    <tr style=\"text-align: right;\">\n",
              "      <th></th>\n",
              "      <th>Gender</th>\n",
              "      <th>Height</th>\n",
              "      <th>Weight</th>\n",
              "    </tr>\n",
              "  </thead>\n",
              "  <tbody>\n",
              "    <tr>\n",
              "      <th>0</th>\n",
              "      <td>Male</td>\n",
              "      <td>73.847017</td>\n",
              "      <td>241.893563</td>\n",
              "    </tr>\n",
              "    <tr>\n",
              "      <th>1</th>\n",
              "      <td>Male</td>\n",
              "      <td>68.781904</td>\n",
              "      <td>162.310473</td>\n",
              "    </tr>\n",
              "    <tr>\n",
              "      <th>2</th>\n",
              "      <td>Male</td>\n",
              "      <td>74.110105</td>\n",
              "      <td>212.740856</td>\n",
              "    </tr>\n",
              "    <tr>\n",
              "      <th>3</th>\n",
              "      <td>Male</td>\n",
              "      <td>71.730978</td>\n",
              "      <td>220.042470</td>\n",
              "    </tr>\n",
              "    <tr>\n",
              "      <th>4</th>\n",
              "      <td>Male</td>\n",
              "      <td>69.881796</td>\n",
              "      <td>206.349801</td>\n",
              "    </tr>\n",
              "  </tbody>\n",
              "</table>\n",
              "</div>"
            ],
            "text/plain": [
              "  Gender     Height      Weight\n",
              "0   Male  73.847017  241.893563\n",
              "1   Male  68.781904  162.310473\n",
              "2   Male  74.110105  212.740856\n",
              "3   Male  71.730978  220.042470\n",
              "4   Male  69.881796  206.349801"
            ]
          },
          "metadata": {
            "tags": []
          },
          "execution_count": 5
        }
      ]
    },
    {
      "metadata": {
        "id": "BfudNR6fM54N",
        "colab_type": "text"
      },
      "cell_type": "markdown",
      "source": [
        "Remember that the form of data we will use always is\n",
        "\n",
        "![dataform](images/data.png)\n",
        "\n",
        "with the \"response\" or \"label\" $y$ as a plain array of 0s and 1s for binary classification. Sometimes we will also see -1 and +1 instead. There are also *multiclass* classifiers that can assign an observation to one of $K > 2$ classes and the labe may then be an integer, but we will not be discussing those here.\n",
        "\n",
        "`y = [1,1,0,0,0,1,0,1,0....]`."
      ]
    },
    {
      "metadata": {
        "id": "z9nNOFHBM54O",
        "colab_type": "text"
      },
      "cell_type": "markdown",
      "source": [
        "<div class=\"span5 alert alert-info\">\n",
        "<h3>Checkup Exercise Set I</h3>\n",
        "\n",
        "<ul>\n",
        "  <li> <b>Exercise:</b> Create a scatter plot of Weight vs. Height\n",
        "  <li> <b>Exercise:</b> Color the points differently by Gender\n",
        "</ul>\n",
        "</div>"
      ]
    },
    {
      "metadata": {
        "id": "mfLLFTOPM54P",
        "colab_type": "code",
        "colab": {
          "autoexec": {
            "startup": false,
            "wait_interval": 0
          }
        },
        "outputId": "bbacfe93-340c-4632-8f59-aa5c4b76ac2c"
      },
      "cell_type": "code",
      "source": [
        "# your turn\n",
        "\n",
        "\n",
        "fig = sns.FacetGrid(data=dflog, hue='Gender', aspect=1)\n",
        "fig.map(plt.scatter, 'Weight', 'Height')\n",
        "plt.show()"
      ],
      "execution_count": 0,
      "outputs": [
        {
          "output_type": "display_data",
          "data": {
            "image/png": "[encoded data removed]",
            "text/plain": [
              "<matplotlib.figure.Figure at 0x1dff66835f8>"
            ]
          },
          "metadata": {
            "tags": []
          }
        }
      ]
    },
    {
      "metadata": {
        "id": "lr9VOGMLM54X",
        "colab_type": "text"
      },
      "cell_type": "markdown",
      "source": [
        "### Training and Test Datasets\n",
        "\n",
        "When fitting models, we would like to ensure two things:\n",
        "\n",
        "* We have found the best model (in terms of model parameters).\n",
        "* The model is highly likely to generalize i.e. perform well on unseen data.\n",
        "\n",
        "<br/>\n",
        "<div class=\"span5 alert alert-success\">\n",
        "<h4>Purpose of splitting data into Training/testing sets</h4>\n",
        "<ul>\n",
        "  <li> We built our model with the requirement that the model fit the data well. </li>\n",
        "  <li> As a side-effect, the model will fit <b>THIS</b> dataset well. What about new data? </li>\n",
        "    <ul>\n",
        "      <li> We wanted the model for predictions, right?</li>\n",
        "    </ul>\n",
        "  <li> One simple solution, leave out some data (for <b>testing</b>) and <b>train</b> the model on the rest </li>\n",
        "  <li> This also leads directly to the idea of cross-validation, next section. </li>  \n",
        "</ul>\n",
        "</div>"
      ]
    },
    {
      "metadata": {
        "id": "6lvRt8lYM54Y",
        "colab_type": "text"
      },
      "cell_type": "markdown",
      "source": [
        "First, we try a basic Logistic Regression:\n",
        "\n",
        "* Split the data into a training and test (hold-out) set\n",
        "* Train on the training set, and test for accuracy on the testing set"
      ]
    },
    {
      "metadata": {
        "id": "dOuzBkGGM54Z",
        "colab_type": "code",
        "colab": {
          "autoexec": {
            "startup": false,
            "wait_interval": 0
          }
        },
        "outputId": "041c8939-0992-4572-abbf-46fd5ce73098"
      },
      "cell_type": "code",
      "source": [
        "from sklearn.model_selection import train_test_split\n",
        "from sklearn.linear_model import LogisticRegression\n",
        "from sklearn.metrics import accuracy_score\n",
        "\n",
        "# Split the data into a training and test set.\n",
        "Xlr, Xtestlr, ylr, ytestlr = train_test_split(dflog[['Height','Weight']].values, \n",
        "                                              (dflog.Gender == \"Male\").values,random_state=5)\n",
        "\n",
        "clf = LogisticRegression()\n",
        "# Fit the model on the trainng data.\n",
        "clf.fit(Xlr, ylr)\n",
        "# Print the accuracy from the testing data.\n",
        "print(accuracy_score(clf.predict(Xtestlr), ytestlr))"
      ],
      "execution_count": 0,
      "outputs": [
        {
          "output_type": "stream",
          "text": [
            "0.9252\n"
          ],
          "name": "stdout"
        }
      ]
    },
    {
      "metadata": {
        "id": "d_sjJvNhM54d",
        "colab_type": "text"
      },
      "cell_type": "markdown",
      "source": [
        "### Tuning the Model"
      ]
    },
    {
      "metadata": {
        "id": "OV75aSIyM54e",
        "colab_type": "text"
      },
      "cell_type": "markdown",
      "source": [
        "The model has some hyperparameters we can tune for hopefully better performance. For tuning the parameters of your model, you will use a mix of *cross-validation* and *grid search*. In Logistic Regression, the most important parameter to tune is the *regularization parameter* `C`. Note that the regularization parameter is not always part of the logistic regression model. \n",
        "\n",
        "The regularization parameter is used to control for unlikely high regression coefficients, and in other cases can be used when data is sparse, as a method of feature selection.\n",
        "\n",
        "You will now implement some code to perform model tuning and selecting the regularization parameter $C$."
      ]
    },
    {
      "metadata": {
        "id": "bHSlfD6YM54g",
        "colab_type": "text"
      },
      "cell_type": "markdown",
      "source": [
        "We use the following `cv_score` function to perform K-fold cross-validation and apply a scoring function to each test fold. In this incarnation we use accuracy score as the default scoring function."
      ]
    },
    {
      "metadata": {
        "id": "vx18LHcJM54h",
        "colab_type": "code",
        "colab": {
          "autoexec": {
            "startup": false,
            "wait_interval": 0
          }
        }
      },
      "cell_type": "code",
      "source": [
        "from sklearn.model_selection import KFold\n",
        "from sklearn.metrics import accuracy_score\n",
        "\n",
        "def cv_score(clf, x, y, score_func=accuracy_score):\n",
        "    result = 0\n",
        "    nfold = 5\n",
        "    for train, test in KFold(nfold).split(x): # split data into train/test groups, 5 times\n",
        "        clf.fit(x[train], y[train]) # fit\n",
        "        result += score_func(clf.predict(x[test]), y[test]) # evaluate score function on held-out data\n",
        "    return result / nfold # average"
      ],
      "execution_count": 0,
      "outputs": []
    },
    {
      "metadata": {
        "id": "z-qLXMVyM54n",
        "colab_type": "text"
      },
      "cell_type": "markdown",
      "source": [
        "Below is an example of using the `cv_score` function for a basic logistic regression model without regularization."
      ]
    },
    {
      "metadata": {
        "id": "1GIy49GSM54n",
        "colab_type": "code",
        "colab": {
          "autoexec": {
            "startup": false,
            "wait_interval": 0
          }
        },
        "outputId": "788ac0e2-bb3d-4e1a-ae4a-2185af7df4d4"
      },
      "cell_type": "code",
      "source": [
        "\n",
        "\n",
        "clf = LogisticRegression()\n",
        "score = cv_score(clf, Xlr, ylr)\n",
        "print(score)"
      ],
      "execution_count": 0,
      "outputs": [
        {
          "output_type": "stream",
          "text": [
            "0.917066666667\n"
          ],
          "name": "stdout"
        }
      ]
    },
    {
      "metadata": {
        "id": "o78YWfxxM54t",
        "colab_type": "text"
      },
      "cell_type": "markdown",
      "source": [
        "<div class=\"span5 alert alert-info\">\n",
        "<h3>Checkup Exercise Set II</h3>\n",
        "\n",
        "<b>Exercise:</b> Implement the following search procedure to find a good model\n",
        "<ul>\n",
        "<li> You are given a list of possible values of `C` below\n",
        "<li> For each C:\n",
        "  <ol>\n",
        "  <li> Create a logistic regression model with that value of C\n",
        "  <li> Find the average score for this model using the `cv_score` function **only on the training set** `(Xlr, ylr)`\n",
        "  </ol>\n",
        "<li> Pick the C with the highest average score\n",
        "</ul>\n",
        "Your goal is to find the best model parameters based *only* on the training set, without showing the model test set at all (which is why the test set is also called a *hold-out* set).\n",
        "</div>"
      ]
    },
    {
      "metadata": {
        "id": "dGqk1ZLpM54u",
        "colab_type": "code",
        "colab": {
          "autoexec": {
            "startup": false,
            "wait_interval": 0
          }
        },
        "outputId": "257af699-7714-4cd8-f4ee-dc2e8b1c36e2"
      },
      "cell_type": "code",
      "source": [
        "\n",
        "\n",
        "#the grid of parameters to search over\n",
        "Cs = [0.001, 0.1, 1, 10, 100]\n",
        "\n",
        "# your turn\n",
        "def grid_search(grid, X, y):\n",
        "    score = {}\n",
        "    for each in grid:\n",
        "        clf = LogisticRegression(C = each)\n",
        "        cv_scorer = cv_score(clf, X,y)\n",
        "        score[each]= cv_scorer\n",
        "    return score\n",
        "score = grid_search(Cs, Xlr, ylr)\n",
        "print(score)"
      ],
      "execution_count": 0,
      "outputs": [
        {
          "output_type": "stream",
          "text": [
            "{0.001: 0.91693333333333338, 0.1: 0.91706666666666659, 1: 0.91706666666666659, 10: 0.91706666666666659, 100: 0.91706666666666659}\n"
          ],
          "name": "stdout"
        }
      ]
    },
    {
      "metadata": {
        "id": "7sxcfYB5M54z",
        "colab_type": "text"
      },
      "cell_type": "markdown",
      "source": [
        "<div class=\"span5 alert alert-info\">\n",
        "<h3>Checkup Exercise Set III</h3>\n",
        "**Exercise:** Now you want to estimate how this model will predict on unseen data in the following way:\n",
        "<ol>\n",
        "<li> Use the C you obtained from the procedure earlier and train a Logistic Regression on the training data\n",
        "<li> Calculate the accuracy on the test data\n",
        "</ol>\n",
        "\n",
        "<p>You may notice that this particular value of `C` may or may not do as well as simply running the default model on a random train-test split. </p>\n",
        "\n",
        "<ul>\n",
        "<li> Do you think that's a problem? \n",
        "<li> Why do we need to do this whole cross-validation and grid search stuff anyway?\n",
        "</ul>\n",
        "\n",
        "</div>"
      ]
    },
    {
      "metadata": {
        "id": "970vvLDzM540",
        "colab_type": "code",
        "colab": {
          "autoexec": {
            "startup": false,
            "wait_interval": 0
          }
        },
        "outputId": "b1189d97-9a54-47ca-f57e-aa640a507485"
      },
      "cell_type": "code",
      "source": [
        "print(LogisticRegression.params)"
      ],
      "execution_count": 0,
      "outputs": [
        {
          "output_type": "error",
          "ename": "AttributeError",
          "evalue": "type object 'LogisticRegression' has no attribute 'params'",
          "traceback": [
            "\u001b[1;31m---------------------------------------------------------------------------\u001b[0m",
            "\u001b[1;31mAttributeError\u001b[0m                            Traceback (most recent call last)",
            "\u001b[1;32m<ipython-input-35-1dff6ca00872>\u001b[0m in \u001b[0;36m<module>\u001b[1;34m()\u001b[0m\n\u001b[1;32m----> 1\u001b[1;33m \u001b[0mprint\u001b[0m\u001b[1;33m(\u001b[0m\u001b[0mLogisticRegression\u001b[0m\u001b[1;33m.\u001b[0m\u001b[0mparams\u001b[0m\u001b[1;33m)\u001b[0m\u001b[1;33m\u001b[0m\u001b[0m\n\u001b[0m",
            "\u001b[1;31mAttributeError\u001b[0m: type object 'LogisticRegression' has no attribute 'params'"
          ]
        }
      ]
    },
    {
      "metadata": {
        "id": "SNoQvxqtM55L",
        "colab_type": "code",
        "colab": {
          "autoexec": {
            "startup": false,
            "wait_interval": 0
          }
        },
        "outputId": "fe6895af-0c6e-407f-abb1-b26a9e399eaf"
      },
      "cell_type": "code",
      "source": [
        "# your turn\n",
        "clf = LogisticRegression(C = .1)\n",
        "# Fit the model on the trainng data.\n",
        "clf.fit(Xlr, ylr)\n",
        "# Print the accuracy from the testing data.\n",
        "print(accuracy_score(clf.predict(Xtestlr), ytestlr))\n",
        "\n",
        "# cross validation ensures that the model is not overfit to the data; even if the scoring metric is lower for this particular \n",
        "#instance of testing, it is more stable than other models because it has been cross-validated. i.e., it may be worth trading variance for bias\n"
      ],
      "execution_count": 0,
      "outputs": [
        {
          "output_type": "stream",
          "text": [
            "0.9252\n"
          ],
          "name": "stdout"
        }
      ]
    },
    {
      "metadata": {
        "id": "2fFBKNnuM55Q",
        "colab_type": "text"
      },
      "cell_type": "markdown",
      "source": [
        "### Black Box Grid Search in `sklearn`"
      ]
    },
    {
      "metadata": {
        "id": "5OatHC7iM55Y",
        "colab_type": "text"
      },
      "cell_type": "markdown",
      "source": [
        "Scikit-learn, as with many other Python packages, provides utilities to perform common operations so you do not have to do it manually. It is important to understand the mechanics of each operation, but at a certain point, you will want to use the utility instead to save time..."
      ]
    },
    {
      "metadata": {
        "id": "yYYF7AKuM55b",
        "colab_type": "text"
      },
      "cell_type": "markdown",
      "source": [
        "<div class=\"span5 alert alert-info\">\n",
        "<h3>Checkup Exercise Set IV</h3>\n",
        "\n",
        "<b>Exercise:</b> Use scikit-learn's [GridSearchCV](http://scikit-learn.org/stable/modules/generated/sklearn.grid_search.GridSearchCV.html) tool to perform cross validation and grid search. \n",
        "\n",
        "* Instead of writing your own loops above to iterate over the model parameters, can you use GridSearchCV to find the best model over the training set? \n",
        "* Does it give you the same best value of `C`?\n",
        "* How does this model you've obtained perform on the test set?</div>"
      ]
    },
    {
      "metadata": {
        "id": "gQxDiIgVM55c",
        "colab_type": "code",
        "colab": {
          "autoexec": {
            "startup": false,
            "wait_interval": 0
          }
        },
        "outputId": "4e17d7b9-1d24-4c7c-fb5a-73ab85cad374"
      },
      "cell_type": "code",
      "source": [
        "from sklearn.model_selection import GridSearchCV, cross_val_score\n",
        "Cs = [{'C': [0.001, 0.1, 1, 10, 100]}]\n",
        "\n",
        "# your turn\n",
        "clf = GridSearchCV(LogisticRegression(), Cs)\n",
        "clf.fit(Xlr, ylr)\n",
        "print(clf.best_estimator_)\n",
        "print(clf.best_score_)\n",
        "\n",
        "print(accuracy_score(clf.predict(Xtestlr), ytestlr))\n",
        "\n",
        "# same score, different C value. Note that all values for C above 1 resulted in same score"
      ],
      "execution_count": 0,
      "outputs": [
        {
          "output_type": "stream",
          "text": [
            "LogisticRegression(C=1, class_weight=None, dual=False, fit_intercept=True,\n",
            "          intercept_scaling=1, max_iter=100, multi_class='ovr', n_jobs=1,\n",
            "          penalty='l2', random_state=None, solver='liblinear', tol=0.0001,\n",
            "          verbose=0, warm_start=False)\n",
            "0.917333333333\n",
            "0.9252\n"
          ],
          "name": "stdout"
        }
      ]
    },
    {
      "metadata": {
        "id": "sGx-3dZbM55i",
        "colab_type": "text"
      },
      "cell_type": "markdown",
      "source": [
        "## A Walkthrough of the Math Behind Logistic Regression"
      ]
    },
    {
      "metadata": {
        "id": "m_tS1_kPM55j",
        "colab_type": "text"
      },
      "cell_type": "markdown",
      "source": [
        "### Setting up Some Demo Code"
      ]
    },
    {
      "metadata": {
        "id": "y526JZ4cM55n",
        "colab_type": "text"
      },
      "cell_type": "markdown",
      "source": [
        "Let's first set some code up for classification that we will need for further discussion on the math. We first set up a function `cv_optimize` which takes a classifier `clf`, a grid of hyperparameters (such as a complexity parameter or regularization parameter) implemented as a dictionary `parameters`, a training set (as a samples x features array) `Xtrain`, and a set of labels `ytrain`. The code takes the traning set, splits it into `n_folds` parts, sets up `n_folds` folds, and carries out a cross-validation by splitting the training set into a training and validation section for each foldfor us. It prints the best value of the parameters, and retuens the best classifier to us."
      ]
    },
    {
      "metadata": {
        "id": "UCqB4ceqM55p",
        "colab_type": "code",
        "colab": {
          "autoexec": {
            "startup": false,
            "wait_interval": 0
          }
        }
      },
      "cell_type": "code",
      "source": [
        "def cv_optimize(clf, parameters, Xtrain, ytrain, n_folds=5):\n",
        "    gs = sklearn.model_selection.GridSearchCV(clf, param_grid=parameters, cv=n_folds)\n",
        "    gs.fit(Xtrain, ytrain)\n",
        "    print(\"BEST PARAMS\", gs.best_params_)\n",
        "    best = gs.best_estimator_\n",
        "    return best"
      ],
      "execution_count": 0,
      "outputs": []
    },
    {
      "metadata": {
        "id": "beJJ2ap2M550",
        "colab_type": "text"
      },
      "cell_type": "markdown",
      "source": [
        "We then use this best classifier to fit the entire training set. This is done inside the `do_classify` function which takes a dataframe `indf` as input. It takes the columns in the list `featurenames` as the features used to train the classifier. The column `targetname` sets the target. The classification is done by setting those samples for which `targetname` has value `target1val` to the value 1, and all others to 0. We split the dataframe into 80% training and 20% testing by default, standardizing the dataset if desired. (Standardizing a data set involves scaling the data so that it has 0 mean and is described in units of its standard deviation. We then train the model on the training set using cross-validation. Having obtained the best classifier using `cv_optimize`, we retrain on the entire training set and calculate the training and testing accuracy, which we print. We return the split data and the trained classifier."
      ]
    },
    {
      "metadata": {
        "id": "GhVR-1NTM553",
        "colab_type": "code",
        "colab": {
          "autoexec": {
            "startup": false,
            "wait_interval": 0
          }
        }
      },
      "cell_type": "code",
      "source": [
        "from sklearn.model_selection import train_test_split\n",
        "\n",
        "def do_classify(clf, parameters, indf, featurenames, targetname, target1val, standardize=False, train_size=0.8):\n",
        "    subdf=indf[featurenames]\n",
        "    if standardize:\n",
        "        subdfstd=(subdf - subdf.mean())/subdf.std()\n",
        "    else:\n",
        "        subdfstd=subdf\n",
        "    X=subdfstd.values\n",
        "    y=(indf[targetname].values==target1val)*1\n",
        "    Xtrain, Xtest, ytrain, ytest = train_test_split(X, y, train_size=train_size)\n",
        "    clf = cv_optimize(clf, parameters, Xtrain, ytrain)\n",
        "    clf=clf.fit(Xtrain, ytrain)\n",
        "    training_accuracy = clf.score(Xtrain, ytrain)\n",
        "    test_accuracy = clf.score(Xtest, ytest)\n",
        "    print(\"Accuracy on training data: {:0.2f}\".format(training_accuracy))\n",
        "    print(\"Accuracy on test data:     {:0.2f}\".format(test_accuracy))\n",
        "    return clf, Xtrain, ytrain, Xtest, ytest"
      ],
      "execution_count": 0,
      "outputs": []
    },
    {
      "metadata": {
        "id": "yjXzWGHLM556",
        "colab_type": "text"
      },
      "cell_type": "markdown",
      "source": [
        "## Logistic Regression: The Math"
      ]
    },
    {
      "metadata": {
        "id": "Vt5KvCWWM557",
        "colab_type": "text"
      },
      "cell_type": "markdown",
      "source": [
        "We could approach classification as linear regression, there the class, 0 or 1, is the target variable $y$. But this ignores the fact that our output $y$ is discrete valued, and futhermore, the $y$ predicted by linear regression will in general take on values less than 0 and greater than 1. Additionally, the residuals from the linear regression model will *not* be normally distributed. This violation means we should not use linear regression.\n",
        "\n",
        "But what if we could change the form of our hypotheses $h(x)$ instead?\n",
        "\n",
        "The idea behind logistic regression is very simple. We want to draw a line in feature space that divides the '1' samples from the '0' samples, just like in the diagram above. In other words, we wish to find the \"regression\" line which divides the samples. Now, a line has the form $w_1 x_1 + w_2 x_2 + w_0 = 0$ in 2-dimensions. On one side of this line we have \n",
        "\n",
        "$$w_1 x_1 + w_2 x_2 + w_0 \\ge 0,$$\n",
        "\n",
        "and on the other side we have \n",
        "\n",
        "$$w_1 x_1 + w_2 x_2 + w_0 < 0.$$ \n",
        "\n",
        "Our classification rule then becomes:\n",
        "\n",
        "\\begin{eqnarray*}\n",
        "y = 1 &\\mbox{if}& \\v{w}\\cdot\\v{x} \\ge 0\\\\\n",
        "y = 0 &\\mbox{if}& \\v{w}\\cdot\\v{x} < 0\n",
        "\\end{eqnarray*}\n",
        "\n",
        "where $\\v{x}$ is the vector $\\{1,x_1, x_2,...,x_n\\}$ where we have also generalized to more than 2 features.\n",
        "\n",
        "What hypotheses $h$ can we use to achieve this? One way to do so is to use the **sigmoid** function:\n",
        "\n",
        "$$h(z) = \\frac{1}{1 + e^{-z}}.$$\n",
        "\n",
        "Notice that at $z=0$ this function has the value 0.5. If $z > 0$, $h > 0.5$ and as $z \\to \\infty$, $h \\to 1$. If $z < 0$, $h < 0.5$ and as $z \\to -\\infty$, $h \\to 0$. As long as we identify any value of $y > 0.5$ as 1, and any $y < 0.5$ as 0, we can achieve what we wished above.\n",
        "\n",
        "This function is plotted below:"
      ]
    },
    {
      "metadata": {
        "id": "4rN8TUuEM558",
        "colab_type": "code",
        "colab": {
          "autoexec": {
            "startup": false,
            "wait_interval": 0
          }
        }
      },
      "cell_type": "code",
      "source": [
        "h = lambda z: 1. / (1 + np.exp(-z))\n",
        "zs=np.arange(-5, 5, 0.1)\n",
        "plt.plot(zs, h(zs), alpha=0.5);"
      ],
      "execution_count": 0,
      "outputs": []
    },
    {
      "metadata": {
        "id": "wtugl2fuM56A",
        "colab_type": "text"
      },
      "cell_type": "markdown",
      "source": [
        "So we then come up with our rule by identifying:\n",
        "\n",
        "$$z = \\v{w}\\cdot\\v{x}.$$\n",
        "\n",
        "Then $h(\\v{w}\\cdot\\v{x}) \\ge 0.5$ if $\\v{w}\\cdot\\v{x} \\ge 0$ and $h(\\v{w}\\cdot\\v{x}) \\lt 0.5$ if $\\v{w}\\cdot\\v{x} \\lt 0$, and:\n",
        "\n",
        "\\begin{eqnarray*}\n",
        "y = 1 &if& h(\\v{w}\\cdot\\v{x}) \\ge 0.5\\\\\n",
        "y = 0 &if& h(\\v{w}\\cdot\\v{x}) \\lt 0.5.\n",
        "\\end{eqnarray*}\n",
        "\n",
        "We will show soon that this identification can be achieved by minimizing a loss in the ERM framework called the **log loss** :\n",
        "\n",
        "$$ R_{\\cal{D}}(\\v{w}) = - \\sum_{y_i \\in \\cal{D}} \\left ( y_i \\log(h(\\v{w}\\cdot\\v{x})) + ( 1 - y_i) \\log(1 - h(\\v{w}\\cdot\\v{x})) \\right )$$\n",
        "\n",
        "We will also add a regularization term:\n",
        "\n",
        "$$ R_{\\cal{D}}(\\v{w}) = - \\sum_{y_i \\in \\cal{D}} \\left ( y_i \\log(h(\\v{w}\\cdot\\v{x})) + ( 1 - y_i) \\log(1 - h(\\v{w}\\cdot\\v{x})) \\right ) + \\frac{1}{C} \\v{w}\\cdot\\v{w},$$\n",
        "\n",
        "where $C$ is the regularization strength (equivalent to $1/\\alpha$ from the Ridge case), and smaller values of $C$ mean stronger regularization. As before, the regularization tries to prevent features from having terribly high weights, thus implementing a form of feature selection. \n",
        "\n",
        "How did we come up with this loss? We'll come back to that, but let us see how logistic regression works out. \n"
      ]
    },
    {
      "metadata": {
        "id": "QQr0kGwEM56A",
        "colab_type": "code",
        "colab": {
          "autoexec": {
            "startup": false,
            "wait_interval": 0
          }
        }
      },
      "cell_type": "code",
      "source": [
        "dflog.head()"
      ],
      "execution_count": 0,
      "outputs": []
    },
    {
      "metadata": {
        "id": "Q0fFTWgWM56G",
        "colab_type": "code",
        "colab": {
          "autoexec": {
            "startup": false,
            "wait_interval": 0
          }
        }
      },
      "cell_type": "code",
      "source": [
        "clf_l, Xtrain_l, ytrain_l, Xtest_l, ytest_l  = do_classify(LogisticRegression(), \n",
        "                                                           {\"C\": [0.01, 0.1, 1, 10, 100]}, \n",
        "                                                           dflog, ['Weight', 'Height'], 'Gender','Male')"
      ],
      "execution_count": 0,
      "outputs": []
    },
    {
      "metadata": {
        "id": "vy1Ncj1WM56J",
        "colab_type": "code",
        "colab": {
          "autoexec": {
            "startup": false,
            "wait_interval": 0
          }
        }
      },
      "cell_type": "code",
      "source": [
        "plt.figure()\n",
        "ax=plt.gca()\n",
        "points_plot(ax, Xtrain_l, Xtest_l, ytrain_l, ytest_l, clf_l, alpha=0.2);"
      ],
      "execution_count": 0,
      "outputs": []
    },
    {
      "metadata": {
        "id": "nAh4EXiHM56M",
        "colab_type": "text"
      },
      "cell_type": "markdown",
      "source": [
        "In the figure here showing the results of the logistic regression, we plot the actual labels of both the training(circles) and test(squares) samples. The 0's (females) are plotted in red, the 1's (males) in blue. We also show the classification boundary, a line (to the resolution of a grid square). Every sample on the red background side of the line will be classified female, and every sample on the blue side, male. Notice that most of the samples are classified well, but there are misclassified people on both sides, as evidenced by leakage of dots or squares of one color ontothe side of the other color. Both test and traing accuracy are about 92%."
      ]
    },
    {
      "metadata": {
        "id": "xzEvBXI0M56N",
        "colab_type": "text"
      },
      "cell_type": "markdown",
      "source": [
        "### The Probabilistic Interpretaion"
      ]
    },
    {
      "metadata": {
        "id": "zJv52acBM56O",
        "colab_type": "text"
      },
      "cell_type": "markdown",
      "source": [
        "Remember we said earlier that if $h > 0.5$ we ought to identify the sample with $y=1$? One way of thinking about this is to identify $h(\\v{w}\\cdot\\v{x})$ with the probability that the sample is a '1' ($y=1$). Then we have the intuitive notion that lets identify a sample as 1 if we find that the probabilty of being a '1' is $\\ge 0.5$.\n",
        "\n",
        "So suppose we say then that the probability of $y=1$ for a given $\\v{x}$ is given by $h(\\v{w}\\cdot\\v{x})$?\n",
        "\n",
        "Then, the conditional probabilities of $y=1$ or $y=0$ given a particular sample's features $\\v{x}$ are:\n",
        "\n",
        "\\begin{eqnarray*}\n",
        "P(y=1 | \\v{x}) &=& h(\\v{w}\\cdot\\v{x}) \\\\\n",
        "P(y=0 | \\v{x}) &=& 1 - h(\\v{w}\\cdot\\v{x}).\n",
        "\\end{eqnarray*}\n",
        "\n",
        "These two can be written together as\n",
        "\n",
        "$$P(y|\\v{x}, \\v{w}) = h(\\v{w}\\cdot\\v{x})^y \\left(1 - h(\\v{w}\\cdot\\v{x}) \\right)^{(1-y)} $$\n",
        "\n",
        "Then multiplying over the samples we get the probability of the training $y$ given $\\v{w}$ and the $\\v{x}$:\n",
        "\n",
        "$$P(y|\\v{x},\\v{w}) = P(\\{y_i\\} | \\{\\v{x}_i\\}, \\v{w}) = \\prod_{y_i \\in \\cal{D}} P(y_i|\\v{x_i}, \\v{w}) = \\prod_{y_i \\in \\cal{D}} h(\\v{w}\\cdot\\v{x_i})^{y_i} \\left(1 - h(\\v{w}\\cdot\\v{x_i}) \\right)^{(1-y_i)}$$\n",
        "\n",
        "Why use probabilities? Earlier, we talked about how the regression function $f(x)$ never gives us the $y$ exactly, because of noise. This hold for classification too. Even with identical features, a different sample may be classified differently. \n",
        "\n",
        "We said that another way to think about a noisy $y$ is to imagine that our data $\\dat$ was generated from  a joint probability distribution $P(x,y)$. Thus we need to model $y$ at a given $x$, written as $P(y|x)$, and since $P(x)$ is also a probability distribution, we have:\n",
        "\n",
        "$$P(x,y) = P(y | x) P(x)$$\n",
        "\n",
        "and can obtain our joint probability $P(x, y)$.\n",
        "\n",
        "Indeed its important to realize that a particular training set can be thought of as a draw from some \"true\" probability distribution (just as we did when showing the hairy variance diagram). If for example the probability of classifying a test sample as a '0' was 0.1, and it turns out that the test sample was a '0', it does not mean that this model was necessarily wrong. After all, in roughly a 10th of the draws, this new sample would be classified as a '0'! But, of-course its more unlikely than its likely, and having good probabilities means that we'll be likely right most of the time, which is what we want to achieve in classification. And furthermore, we can quantify this accuracy.\n",
        "\n",
        "Thus its desirable to have probabilistic, or at the very least, ranked models of classification where you can tell which sample is more likely to be classified as a '1'. There are business reasons for this too. Consider the example of customer \"churn\": you are a cell-phone company and want to know, based on some of my purchasing habit and characteristic \"features\" if I am a likely defector. If so, you'll offer me an incentive not to defect. In this scenario, you might want to know which customers are most likely to defect, or even more precisely, which are most likely to respond to incentives. Based on these probabilities, you could then spend a finite marketing budget wisely."
      ]
    },
    {
      "metadata": {
        "id": "ju6SA7xIM56P",
        "colab_type": "text"
      },
      "cell_type": "markdown",
      "source": [
        "### Maximizing the Probability of the Training Set"
      ]
    },
    {
      "metadata": {
        "id": "Cnoqa1UzM56P",
        "colab_type": "text"
      },
      "cell_type": "markdown",
      "source": [
        "Now if we maximize $P(y|\\v{x},\\v{w})$, we will maximize the chance that each point is classified correctly, which is what we want to do. While this is not exactly the same thing as maximizing the 1-0 training risk, it is a principled way of obtaining the highest probability classification. This process is called **maximum likelihood** estimation since we are maximising the **likelihood of the training data y**, \n",
        "\n",
        "$$\\like = P(y|\\v{x},\\v{w}).$$ \n",
        "\n",
        "Maximum likelihood is one of the corenerstone methods in statistics, and is used to estimate probabilities of data. \n",
        "\n",
        "We can equivalently maximize \n",
        "\n",
        "$$\\loglike = \\log{P(y|\\v{x},\\v{w})}$$ \n",
        "\n",
        "since the natural logarithm $\\log$ is a monotonic function. This is known as maximizing the **log-likelihood**. Thus we can equivalently *minimize* a risk that is the negative of  $\\log(P(y|\\v{x},\\v{w}))$:\n",
        "\n",
        "$$R_{\\cal{D}}(h(x)) = -\\loglike = -\\log \\like = -\\log{P(y|\\v{x},\\v{w})}.$$\n",
        "\n",
        "\n",
        "Thus\n",
        "\n",
        "\\begin{eqnarray*}\n",
        "R_{\\cal{D}}(h(x)) &=& -\\log\\left(\\prod_{y_i \\in \\cal{D}} h(\\v{w}\\cdot\\v{x_i})^{y_i} \\left(1 - h(\\v{w}\\cdot\\v{x_i}) \\right)^{(1-y_i)}\\right)\\\\\n",
        "                  &=& -\\sum_{y_i \\in \\cal{D}} \\log\\left(h(\\v{w}\\cdot\\v{x_i})^{y_i} \\left(1 - h(\\v{w}\\cdot\\v{x_i}) \\right)^{(1-y_i)}\\right)\\\\                  \n",
        "                  &=& -\\sum_{y_i \\in \\cal{D}} \\log\\,h(\\v{w}\\cdot\\v{x_i})^{y_i} + \\log\\,\\left(1 - h(\\v{w}\\cdot\\v{x_i}) \\right)^{(1-y_i)}\\\\\n",
        "                  &=& - \\sum_{y_i \\in \\cal{D}} \\left ( y_i \\log(h(\\v{w}\\cdot\\v{x})) + ( 1 - y_i) \\log(1 - h(\\v{w}\\cdot\\v{x})) \\right )\n",
        "\\end{eqnarray*}\n",
        "                  \n",
        "This is exactly the risk we had above, leaving out the regularization term (which we shall return to later) and was the reason we chose it over the 1-0 risk. \n",
        "\n",
        "Notice that this little process we carried out above tells us something very interesting: **Probabilistic estimation using maximum likelihood is equivalent to Empiricial Risk Minimization using the negative log-likelihood**, since all we did was to minimize the negative log-likelihood over the training samples.\n",
        "\n",
        "`sklearn` will return the probabilities for our samples, or for that matter, for any input vector set $\\{\\v{x}_i\\}$, i.e. $P(y_i | \\v{x}_i, \\v{w})$:"
      ]
    },
    {
      "metadata": {
        "id": "locGWd9pM56Q",
        "colab_type": "code",
        "colab": {
          "autoexec": {
            "startup": false,
            "wait_interval": 0
          }
        }
      },
      "cell_type": "code",
      "source": [
        "clf_l.predict_proba(Xtest_l)"
      ],
      "execution_count": 0,
      "outputs": []
    },
    {
      "metadata": {
        "id": "OZVmhsVZM56W",
        "colab_type": "text"
      },
      "cell_type": "markdown",
      "source": [
        "### Discriminative vs Generative Classifier"
      ]
    },
    {
      "metadata": {
        "id": "eS3cF8BhM56Y",
        "colab_type": "text"
      },
      "cell_type": "markdown",
      "source": [
        "Logistic regression is what is known as a **discriminative classifier** as we learn a soft boundary between/among classes. Another paradigm is the **generative classifier** where we learn the distribution of each class. For more examples of generative classifiers, look [here](https://en.wikipedia.org/wiki/Generative_model). \n",
        "\n",
        "Let us plot the probabilities obtained from `predict_proba`, overlayed on the samples with their true labels:"
      ]
    },
    {
      "metadata": {
        "id": "3M_BgLvXM56a",
        "colab_type": "code",
        "colab": {
          "autoexec": {
            "startup": false,
            "wait_interval": 0
          }
        }
      },
      "cell_type": "code",
      "source": [
        "plt.figure()\n",
        "ax = plt.gca()\n",
        "points_plot_prob(ax, Xtrain_l, Xtest_l, ytrain_l, ytest_l, clf_l, psize=20, alpha=0.1);"
      ],
      "execution_count": 0,
      "outputs": []
    },
    {
      "metadata": {
        "id": "3ff61dx8M56i",
        "colab_type": "text"
      },
      "cell_type": "markdown",
      "source": [
        "Notice that lines of equal probability, as might be expected are stright lines. What the classifier does is very intuitive: if the probability is greater than 0.5, it classifies the sample as type '1' (male), otherwise it classifies the sample to be class '0'. Thus in the diagram above, where we have plotted predicted values rather than actual labels of samples, there is a clear demarcation at the 0.5 probability line.\n",
        "\n",
        "Again, this notion of trying to obtain the line or boundary of demarcation is what is called a **discriminative** classifier. The algorithm tries to find a decision boundary that separates the males from the females. To classify a new sample as male or female, it checks on which side of the decision boundary the sample falls, and makes a prediction. In other words we are asking, given $\\v{x}$, what is the probability of a given $y$, or, what is the likelihood $P(y|\\v{x},\\v{w})$?"
      ]
    },
    {
      "metadata": {
        "id": "ZFGOHWp5M56j",
        "colab_type": "code",
        "colab": {
          "autoexec": {
            "startup": false,
            "wait_interval": 0
          }
        }
      },
      "cell_type": "code",
      "source": [
        ""
      ],
      "execution_count": 0,
      "outputs": []
    }
  ]
}