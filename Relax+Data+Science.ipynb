{
 "cells": [
  {
   "cell_type": "code",
   "execution_count": 1,
   "metadata": {
    "collapsed": true
   },
   "outputs": [],
   "source": [
    "import numpy as np\n",
    "import pandas as pd\n",
    "import scipy.stats as stats\n",
    "import matplotlib.pyplot as plt\n",
    "import sklearn\n",
    "\n",
    "import seaborn as sns"
   ]
  },
  {
   "cell_type": "code",
   "execution_count": 2,
   "metadata": {},
   "outputs": [],
   "source": [
    "#user_table = pd.read_csv(r\"C:\\Users\\yi6\\Desktop\\relax_challenge\\takehome_user_engagement.csv\")\n",
    "#engagement_table = pd.read_csv(r\"C:\\Users\\yi6\\Desktop\\relax_challenge\\takehome_users.csv\")\n",
    "\n",
    "engagement = pd.read_csv(r\"C:\\Users\\yi6\\Desktop\\relax_challenge\\takehome_user_engagement.csv\")\n",
    "\n",
    "take_home = pd.read_csv(r\"C:\\Users\\yi6\\Desktop\\relax_challenge\\takehome_users.csv\", encoding = \"ISO-8859-1\")"
   ]
  },
  {
   "cell_type": "code",
   "execution_count": 3,
   "metadata": {},
   "outputs": [
    {
     "name": "stdout",
     "output_type": "stream",
     "text": [
      "         object_id  last_session_creation_time  opted_in_to_mailing_list  \\\n",
      "count  12000.00000                8.823000e+03              12000.000000   \n",
      "mean    6000.50000                1.379279e+09                  0.249500   \n",
      "std     3464.24595                1.953116e+07                  0.432742   \n",
      "min        1.00000                1.338452e+09                  0.000000   \n",
      "25%     3000.75000                1.363195e+09                  0.000000   \n",
      "50%     6000.50000                1.382888e+09                  0.000000   \n",
      "75%     9000.25000                1.398443e+09                  0.000000   \n",
      "max    12000.00000                1.402067e+09                  1.000000   \n",
      "\n",
      "       enabled_for_marketing_drip        org_id  invited_by_user_id  \n",
      "count                12000.000000  12000.000000         6417.000000  \n",
      "mean                     0.149333    141.884583         5962.957145  \n",
      "std                      0.356432    124.056723         3383.761968  \n",
      "min                      0.000000      0.000000            3.000000  \n",
      "25%                      0.000000     29.000000         3058.000000  \n",
      "50%                      0.000000    108.000000         5954.000000  \n",
      "75%                      0.000000    238.250000         8817.000000  \n",
      "max                      1.000000    416.000000        11999.000000  \n",
      "<class 'pandas.core.frame.DataFrame'>\n",
      "RangeIndex: 12000 entries, 0 to 11999\n",
      "Data columns (total 10 columns):\n",
      "object_id                     12000 non-null int64\n",
      "creation_time                 12000 non-null object\n",
      "name                          12000 non-null object\n",
      "email                         12000 non-null object\n",
      "creation_source               12000 non-null object\n",
      "last_session_creation_time    8823 non-null float64\n",
      "opted_in_to_mailing_list      12000 non-null int64\n",
      "enabled_for_marketing_drip    12000 non-null int64\n",
      "org_id                        12000 non-null int64\n",
      "invited_by_user_id            6417 non-null float64\n",
      "dtypes: float64(2), int64(4), object(4)\n",
      "memory usage: 937.6+ KB\n",
      "None\n",
      "Index(['object_id', 'creation_time', 'name', 'email', 'creation_source',\n",
      "       'last_session_creation_time', 'opted_in_to_mailing_list',\n",
      "       'enabled_for_marketing_drip', 'org_id', 'invited_by_user_id'],\n",
      "      dtype='object')\n",
      "   object_id        creation_time               name  \\\n",
      "0          1  2014-04-22 03:53:30     Clausen August   \n",
      "1          2  2013-11-15 03:45:04      Poole Matthew   \n",
      "2          3  2013-03-19 23:14:52  Bottrill Mitchell   \n",
      "3          4  2013-05-21 08:09:28    Clausen Nicklas   \n",
      "4          5  2013-01-17 10:14:20          Raw Grace   \n",
      "\n",
      "                        email creation_source  last_session_creation_time  \\\n",
      "0    AugustCClausen@yahoo.com    GUEST_INVITE                1.398139e+09   \n",
      "1      MatthewPoole@gustr.com      ORG_INVITE                1.396238e+09   \n",
      "2  MitchellBottrill@gustr.com      ORG_INVITE                1.363735e+09   \n",
      "3   NicklasSClausen@yahoo.com    GUEST_INVITE                1.369210e+09   \n",
      "4          GraceRaw@yahoo.com    GUEST_INVITE                1.358850e+09   \n",
      "\n",
      "   opted_in_to_mailing_list  enabled_for_marketing_drip  org_id  \\\n",
      "0                         1                           0      11   \n",
      "1                         0                           0       1   \n",
      "2                         0                           0      94   \n",
      "3                         0                           0       1   \n",
      "4                         0                           0     193   \n",
      "\n",
      "   invited_by_user_id  \n",
      "0             10803.0  \n",
      "1               316.0  \n",
      "2              1525.0  \n",
      "3              5151.0  \n",
      "4              5240.0  \n"
     ]
    }
   ],
   "source": [
    "#descriptive stats\n",
    "print(take_home.describe())\n",
    "print(take_home.info())\n",
    "print(take_home.columns)\n",
    "print(take_home.head())"
   ]
  },
  {
   "cell_type": "code",
   "execution_count": 6,
   "metadata": {},
   "outputs": [],
   "source": [
    "#convert column to datetime and group by 9 day count\n",
    "engagement['time_stamp'] = pd.to_datetime(engagement['time_stamp'])\n",
    "groupby = engagement.set_index('time_stamp').groupby([pd.TimeGrouper(freq='9D'), 'user_id']).count()\n",
    "groupby_2.columns = ['user_id', '9_day_count_max']\n",
    "\n",
    "#Create target column by grouping max engagment count over 9 day interval\n",
    "groupby_2[\"Target\"] = groupby_2['9_day_count_max'].apply(lambda x: 1 if x >= 3 else 0)\n",
    "groupby_2.set_index('user_id')\n",
    "\n",
    "#rename cols and merge two data sources\n",
    "take_home.rename(columns={'object_id':'user_id'}, inplace=True)\n",
    "take_home_2 = pd.merge(take_home,groupby_2, how = 'left', on = 'user_id' )\n",
    "take_home_2 = pd.get_dummies(take_home_2, prefix= 'creation_source', columns = ['creation_source'])\n",
    "take_home_2.tail()"
   ]
  },
  {
   "cell_type": "code",
   "execution_count": 25,
   "metadata": {},
   "outputs": [
    {
     "data": {
      "text/plain": [
       "0    1625\n",
       "1    1783\n",
       "2    2024\n",
       "3    1961\n",
       "4    2085\n",
       "Name: days_since_creation, dtype: int64"
      ]
     },
     "execution_count": 25,
     "metadata": {},
     "output_type": "execute_result"
    }
   ],
   "source": [
    "#create days since account creation col\n",
    "\n",
    "import datetime as dt\n",
    "take_home_2[\"creation_time\"] = pd.to_datetime(take_home_2[\"creation_time\"])\n",
    "NOW=dt.datetime(2018,10,4) \n",
    "take_home_2[\"days_since_creation\"] = take_home_2[\"creation_time\"].apply(lambda x: (NOW - x).days)\n",
    "take_home_2[\"days_since_creation\"].head()"
   ]
  },
  {
   "cell_type": "code",
   "execution_count": 29,
   "metadata": {},
   "outputs": [
    {
     "name": "stdout",
     "output_type": "stream",
     "text": [
      "<class 'pandas.core.frame.DataFrame'>\n",
      "Int64Index: 8823 entries, 0 to 11999\n",
      "Data columns (total 11 columns):\n",
      "Target                                8823 non-null float64\n",
      "days_since_creation                   8823 non-null int64\n",
      "opted_in_to_mailing_list              8823 non-null int64\n",
      "enabled_for_marketing_drip            8823 non-null int64\n",
      "org_id                                8823 non-null int64\n",
      "9_day_count_max                       8823 non-null float64\n",
      "creation_source_GUEST_INVITE          8823 non-null uint8\n",
      "creation_source_ORG_INVITE            8823 non-null uint8\n",
      "creation_source_PERSONAL_PROJECTS     8823 non-null uint8\n",
      "creation_source_SIGNUP                8823 non-null uint8\n",
      "creation_source_SIGNUP_GOOGLE_AUTH    8823 non-null uint8\n",
      "dtypes: float64(2), int64(4), uint8(5)\n",
      "memory usage: 525.6 KB\n",
      "None\n"
     ]
    }
   ],
   "source": [
    "#grab target and predictor variables and drop nan\n",
    "\n",
    "take_home_final =  take_home_2[['Target','days_since_creation','opted_in_to_mailing_list',\n",
    "       'enabled_for_marketing_drip', 'org_id', \n",
    "       '9_day_count_max',  'creation_source_GUEST_INVITE',\n",
    "       'creation_source_ORG_INVITE', 'creation_source_PERSONAL_PROJECTS',\n",
    "       'creation_source_SIGNUP', 'creation_source_SIGNUP_GOOGLE_AUTH']]\n",
    "take_home_final = take_home_final.dropna()\n",
    "print(take_home_final.info())"
   ]
  },
  {
   "cell_type": "code",
   "execution_count": 41,
   "metadata": {},
   "outputs": [],
   "source": [
    "#Train test split\n",
    "\n",
    "from sklearn.model_selection import train_test_split\n",
    "\n",
    "X = take_home_final[['days_since_creation', 'org_id','opted_in_to_mailing_list',\n",
    "       'enabled_for_marketing_drip',  'creation_source_GUEST_INVITE',\n",
    "       'creation_source_ORG_INVITE', 'creation_source_PERSONAL_PROJECTS',\n",
    "       'creation_source_SIGNUP', 'creation_source_SIGNUP_GOOGLE_AUTH']]\n",
    "y = take_home_final['Target']\n",
    "\n",
    "X_train, X_test, y_train, y_test = train_test_split(X, y, test_size=0.20, random_state=42)"
   ]
  },
  {
   "cell_type": "code",
   "execution_count": 42,
   "metadata": {},
   "outputs": [
    {
     "name": "stdout",
     "output_type": "stream",
     "text": [
      "Predicted   0.0  1.0   All\n",
      "True                      \n",
      "0.0        1349   87  1436\n",
      "1.0         299   30   329\n",
      "All        1648  117  1765\n"
     ]
    },
    {
     "data": {
      "image/png": "[encoded data removed]",
      "text/plain": [
       "<matplotlib.figure.Figure at 0x23c5a6b62b0>"
      ]
     },
     "metadata": {},
     "output_type": "display_data"
    }
   ],
   "source": [
    "#instantiate RF classifier, call function, visualize feature importance and prediction matrix for imbalanced classes\n",
    "\n",
    "from sklearn.ensemble import RandomForestClassifier\n",
    "from sklearn.metrics import accuracy_score\n",
    "from sklearn.metrics import confusion_matrix\n",
    "    \n",
    "from sklearn import datasets\n",
    "from sklearn.metrics import confusion_matrix\n",
    "from sklearn.model_selection import train_test_split\n",
    "    \n",
    "from sklearn.ensemble import RandomForestClassifier\n",
    "from sklearn.model_selection import RandomizedSearchCV\n",
    "\n",
    "clf =RandomForestClassifier()\n",
    "model = clf.fit(X_train, y_train)\n",
    "pred = model.predict(X_test)\n",
    "a = pd.crosstab(y_test, pred, rownames=['True'], colnames=['Predicted'], margins=True)\n",
    "feature_imp = pd.Series(model.feature_importances_,index=X_train.columns).sort_values(ascending=False)\n",
    "print(a)\n",
    "sns.barplot(x=feature_imp, y=feature_imp.index)\n",
    "# Add labels to your graph\n",
    "plt.xlabel('Feature Importance Score')\n",
    "plt.ylabel('Features')\n",
    "plt.title(\"Visualizing Important Features\")\n",
    "plt.legend()\n",
    "plt.show()"
   ]
  },
  {
   "cell_type": "code",
   "execution_count": 43,
   "metadata": {},
   "outputs": [
    {
     "name": "stdout",
     "output_type": "stream",
     "text": [
      "             precision    recall  f1-score   support\n",
      "\n",
      "        0.0       0.82      0.94      0.87      1436\n",
      "        1.0       0.26      0.09      0.13       329\n",
      "\n",
      "avg / total       0.71      0.78      0.74      1765\n",
      "\n",
      "0.5153002260585382\n"
     ]
    }
   ],
   "source": [
    "from sklearn.metrics import classification_report\n",
    "from sklearn.metrics import roc_auc_score\n",
    "\n",
    "print(classification_report(y_test, pred))\n",
    "print(roc_auc_score(y_test, pred))"
   ]
  },
  {
   "cell_type": "markdown",
   "metadata": {},
   "source": [
    "# Summary\n",
    "\n",
    "This is a really terrible classifier. Essentially, the model is categorizing every label as not a returning user. The relaively high precision/ recall of the 0 label is due to the imbalanced classes. The AUCROC score shows that the decision boundary between labels is essentially non existent, so the AUC is ~ close to random chance. I am not sure that the features included in this data set are sufficient to predict the target variable. There may be something going on with active usership and days since account creation, which could be explored further, but this alone is not sufficient to base any decisions off of. "
   ]
  }
 ],
 "metadata": {
  "kernelspec": {
   "display_name": "Python 3",
   "language": "python",
   "name": "python3"
  },
  "language_info": {
   "codemirror_mode": {
    "name": "ipython",
    "version": 3
   },
   "file_extension": ".py",
   "mimetype": "text/x-python",
   "name": "python",
   "nbconvert_exporter": "python",
   "pygments_lexer": "ipython3",
   "version": "3.6.3"
  }
 },
 "nbformat": 4,
 "nbformat_minor": 2
}
